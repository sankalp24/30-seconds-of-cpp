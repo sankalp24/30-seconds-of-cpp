{
  "nbformat": 4,
  "nbformat_minor": 0,
  "metadata": {
    "colab": {
      "name": "pytorch_tp",
      "provenance": [],
      "authorship_tag": "ABX9TyNWKcpY5rD3CZDEWLhPfrku",
      "include_colab_link": true
    },
    "kernelspec": {
      "name": "python3",
      "display_name": "Python 3"
    },
    "accelerator": "GPU"
  },
  "cells": [
    {
      "cell_type": "markdown",
      "metadata": {
        "id": "view-in-github",
        "colab_type": "text"
      },
      "source": [
        "<a href=\"https://colab.research.google.com/github/sankalp24/30-seconds-of-cpp/blob/master/pytorch_tp.ipynb\" target=\"_parent\"><img src=\"https://colab.research.google.com/assets/colab-badge.svg\" alt=\"Open In Colab\"/></a>"
      ]
    },
    {
      "cell_type": "code",
      "metadata": {
        "id": "kuqsLSp9BuIq",
        "colab_type": "code",
        "colab": {}
      },
      "source": [
        "from __future__ import print_function\n",
        "import torch"
      ],
      "execution_count": 0,
      "outputs": []
    },
    {
      "cell_type": "code",
      "metadata": {
        "id": "WYSC6c2FB7LU",
        "colab_type": "code",
        "outputId": "475495e1-6f88-4cf4-98ae-5da16c3fcef1",
        "colab": {
          "base_uri": "https://localhost:8080/",
          "height": 104
        }
      },
      "source": [
        "x = torch.empty(5, 3)\n",
        "print(x)\n"
      ],
      "execution_count": 0,
      "outputs": [
        {
          "output_type": "stream",
          "text": [
            "tensor([[1.6231e-35, 0.0000e+00, 0.0000e+00],\n",
            "        [0.0000e+00, 0.0000e+00, 0.0000e+00],\n",
            "        [0.0000e+00, 0.0000e+00, 2.8026e-45],\n",
            "        [0.0000e+00, 1.1210e-44, 0.0000e+00],\n",
            "        [1.4013e-45, 0.0000e+00, 0.0000e+00]])\n"
          ],
          "name": "stdout"
        }
      ]
    },
    {
      "cell_type": "code",
      "metadata": {
        "id": "bOhmgWTLC4Ae",
        "colab_type": "code",
        "outputId": "a58503a4-1e36-4b5d-f34b-58c06774ce61",
        "colab": {
          "base_uri": "https://localhost:8080/",
          "height": 104
        }
      },
      "source": [
        "x = torch.rand(5, 3)\n",
        "print(x)\n"
      ],
      "execution_count": 0,
      "outputs": [
        {
          "output_type": "stream",
          "text": [
            "tensor([[0.4476, 0.7592, 0.8790],\n",
            "        [0.3919, 0.2564, 0.4235],\n",
            "        [0.9211, 0.6965, 0.4386],\n",
            "        [0.7393, 0.5366, 0.2257],\n",
            "        [0.9123, 0.9751, 0.2852]])\n"
          ],
          "name": "stdout"
        }
      ]
    },
    {
      "cell_type": "code",
      "metadata": {
        "id": "VwvzVR30DXo9",
        "colab_type": "code",
        "outputId": "7d37b20b-1620-4310-834b-f27a7bbe5a28",
        "colab": {
          "base_uri": "https://localhost:8080/",
          "height": 104
        }
      },
      "source": [
        "x = torch.zeros(5, 3, dtype=torch.long)\n",
        "print(x)\n"
      ],
      "execution_count": 0,
      "outputs": [
        {
          "output_type": "stream",
          "text": [
            "tensor([[0, 0, 0],\n",
            "        [0, 0, 0],\n",
            "        [0, 0, 0],\n",
            "        [0, 0, 0],\n",
            "        [0, 0, 0]])\n"
          ],
          "name": "stdout"
        }
      ]
    },
    {
      "cell_type": "code",
      "metadata": {
        "id": "Qd70kt_xDeXN",
        "colab_type": "code",
        "outputId": "9fd0e114-5005-48ca-ac3c-74cb79ac4853",
        "colab": {
          "base_uri": "https://localhost:8080/",
          "height": 34
        }
      },
      "source": [
        "x = torch.tensor([5.5, 3])\n",
        "print(x)\n"
      ],
      "execution_count": 0,
      "outputs": [
        {
          "output_type": "stream",
          "text": [
            "tensor([5.5000, 3.0000])\n"
          ],
          "name": "stdout"
        }
      ]
    },
    {
      "cell_type": "code",
      "metadata": {
        "id": "PXQ8SQjiDkCL",
        "colab_type": "code",
        "outputId": "65e508f1-734f-46d6-ed6d-dc4abcc7fbd4",
        "colab": {
          "base_uri": "https://localhost:8080/",
          "height": 104
        }
      },
      "source": [
        "x = x.new_ones(5, 3, dtype=torch.double)      # new_* methods take in sizes\n",
        "print(x)"
      ],
      "execution_count": 0,
      "outputs": [
        {
          "output_type": "stream",
          "text": [
            "tensor([[1., 1., 1.],\n",
            "        [1., 1., 1.],\n",
            "        [1., 1., 1.],\n",
            "        [1., 1., 1.],\n",
            "        [1., 1., 1.]], dtype=torch.float64)\n"
          ],
          "name": "stdout"
        }
      ]
    },
    {
      "cell_type": "code",
      "metadata": {
        "id": "_ZQHX-qxEOOm",
        "colab_type": "code",
        "outputId": "967ac6bd-ec17-46d8-a00b-f5c421cbfc7d",
        "colab": {
          "base_uri": "https://localhost:8080/",
          "height": 104
        }
      },
      "source": [
        "x = torch.randn_like(x, dtype=torch.float)    # override dtype!\n",
        "print(x)    "
      ],
      "execution_count": 0,
      "outputs": [
        {
          "output_type": "stream",
          "text": [
            "tensor([[-1.0253,  1.6412, -0.4841],\n",
            "        [ 0.6972, -0.5882,  1.2751],\n",
            "        [-0.9655, -1.5591, -0.7863],\n",
            "        [ 0.5113, -0.7911,  1.2207],\n",
            "        [ 0.5734,  1.7052, -0.0063]])\n"
          ],
          "name": "stdout"
        }
      ]
    },
    {
      "cell_type": "code",
      "metadata": {
        "id": "Q_J0IOUFEk3v",
        "colab_type": "code",
        "outputId": "4c45c412-6ea7-4d2b-d16f-0c520a805934",
        "colab": {
          "base_uri": "https://localhost:8080/",
          "height": 34
        }
      },
      "source": [
        "print(x.size())"
      ],
      "execution_count": 0,
      "outputs": [
        {
          "output_type": "stream",
          "text": [
            "torch.Size([5, 3])\n"
          ],
          "name": "stdout"
        }
      ]
    },
    {
      "cell_type": "code",
      "metadata": {
        "id": "OzF_Lb-wErmw",
        "colab_type": "code",
        "outputId": "fd3553cc-2644-404e-8f05-98b7340e414e",
        "colab": {
          "base_uri": "https://localhost:8080/",
          "height": 278
        }
      },
      "source": [
        "y = torch.rand(5, 3)\n",
        "print(x)\n",
        "print(y)\n",
        "print(x + y)"
      ],
      "execution_count": 0,
      "outputs": [
        {
          "output_type": "stream",
          "text": [
            "tensor([[-1.0253,  1.6412, -0.4841],\n",
            "        [ 0.6972, -0.5882,  1.2751],\n",
            "        [-0.9655, -1.5591, -0.7863],\n",
            "        [ 0.5113, -0.7911,  1.2207],\n",
            "        [ 0.5734,  1.7052, -0.0063]])\n",
            "tensor([[0.1735, 0.0849, 0.6912],\n",
            "        [0.0591, 0.1204, 0.0126],\n",
            "        [0.4346, 0.0368, 0.3998],\n",
            "        [0.3963, 0.4976, 0.1797],\n",
            "        [0.3656, 0.2869, 0.3269]])\n",
            "tensor([[-0.8518,  1.7260,  0.2071],\n",
            "        [ 0.7564, -0.4678,  1.2877],\n",
            "        [-0.5309, -1.5223, -0.3864],\n",
            "        [ 0.9076, -0.2934,  1.4004],\n",
            "        [ 0.9390,  1.9920,  0.3206]])\n"
          ],
          "name": "stdout"
        }
      ]
    },
    {
      "cell_type": "code",
      "metadata": {
        "id": "uOC8v2wGFK2u",
        "colab_type": "code",
        "outputId": "ece99a88-64bf-4ac3-e739-af107f54ea32",
        "colab": {
          "base_uri": "https://localhost:8080/",
          "height": 104
        }
      },
      "source": [
        "print(torch.add(x, y))"
      ],
      "execution_count": 0,
      "outputs": [
        {
          "output_type": "stream",
          "text": [
            "tensor([[-0.8518,  1.7260,  0.2071],\n",
            "        [ 0.7564, -0.4678,  1.2877],\n",
            "        [-0.5309, -1.5223, -0.3864],\n",
            "        [ 0.9076, -0.2934,  1.4004],\n",
            "        [ 0.9390,  1.9920,  0.3206]])\n"
          ],
          "name": "stdout"
        }
      ]
    },
    {
      "cell_type": "code",
      "metadata": {
        "id": "fWicyXJrFVm3",
        "colab_type": "code",
        "outputId": "43295b00-24c0-47bf-bb77-a98c69a7607c",
        "colab": {
          "base_uri": "https://localhost:8080/",
          "height": 104
        }
      },
      "source": [
        "result = torch.empty(5, 3)\n",
        "torch.add(x, y, out=result)\n",
        "print(result)"
      ],
      "execution_count": 0,
      "outputs": [
        {
          "output_type": "stream",
          "text": [
            "tensor([[-0.8518,  1.7260,  0.2071],\n",
            "        [ 0.7564, -0.4678,  1.2877],\n",
            "        [-0.5309, -1.5223, -0.3864],\n",
            "        [ 0.9076, -0.2934,  1.4004],\n",
            "        [ 0.9390,  1.9920,  0.3206]])\n"
          ],
          "name": "stdout"
        }
      ]
    },
    {
      "cell_type": "code",
      "metadata": {
        "id": "ijFo-MGKGfaE",
        "colab_type": "code",
        "outputId": "422c7be4-e604-4ba6-b1c7-f10c1b060688",
        "colab": {
          "base_uri": "https://localhost:8080/",
          "height": 104
        }
      },
      "source": [
        "y.add_(x)\n",
        "print(y)\n"
      ],
      "execution_count": 0,
      "outputs": [
        {
          "output_type": "stream",
          "text": [
            "tensor([[-0.8518,  1.7260,  0.2071],\n",
            "        [ 0.7564, -0.4678,  1.2877],\n",
            "        [-0.5309, -1.5223, -0.3864],\n",
            "        [ 0.9076, -0.2934,  1.4004],\n",
            "        [ 0.9390,  1.9920,  0.3206]])\n"
          ],
          "name": "stdout"
        }
      ]
    },
    {
      "cell_type": "code",
      "metadata": {
        "id": "k8v-xJZAHbi6",
        "colab_type": "code",
        "outputId": "e99fe51e-3924-4828-be6e-1a60f2a7954e",
        "colab": {
          "base_uri": "https://localhost:8080/",
          "height": 121
        }
      },
      "source": [
        "print(x)\n",
        "print(x[:, 0])"
      ],
      "execution_count": 0,
      "outputs": [
        {
          "output_type": "stream",
          "text": [
            "tensor([[-1.0253,  1.6412, -0.4841],\n",
            "        [ 0.6972, -0.5882,  1.2751],\n",
            "        [-0.9655, -1.5591, -0.7863],\n",
            "        [ 0.5113, -0.7911,  1.2207],\n",
            "        [ 0.5734,  1.7052, -0.0063]])\n",
            "tensor([-1.0253,  0.6972, -0.9655,  0.5113,  0.5734])\n"
          ],
          "name": "stdout"
        }
      ]
    },
    {
      "cell_type": "code",
      "metadata": {
        "id": "fBki_XOVIzte",
        "colab_type": "code",
        "outputId": "aa326766-2699-48a2-c2dc-692f322ccc5c",
        "colab": {
          "base_uri": "https://localhost:8080/",
          "height": 156
        }
      },
      "source": [
        "x = torch.randn(4,4)\n",
        "print(x)\n",
        "y = x.view(16)\n",
        "print(y)\n",
        "z = x.view(-1,8)\n",
        "print(z)"
      ],
      "execution_count": 0,
      "outputs": [
        {
          "output_type": "stream",
          "text": [
            "tensor([[-1.4524, -1.4885,  1.1370, -0.1828],\n",
            "        [-1.3195,  0.4646,  1.1793, -0.2121],\n",
            "        [ 0.2088, -0.9322, -0.8098, -1.3215],\n",
            "        [ 0.2536,  0.3472, -0.1817, -1.0247]])\n",
            "tensor([-1.4524, -1.4885,  1.1370, -0.1828, -1.3195,  0.4646,  1.1793, -0.2121,\n",
            "         0.2088, -0.9322, -0.8098, -1.3215,  0.2536,  0.3472, -0.1817, -1.0247])\n",
            "tensor([[-1.4524, -1.4885,  1.1370, -0.1828, -1.3195,  0.4646,  1.1793, -0.2121],\n",
            "        [ 0.2088, -0.9322, -0.8098, -1.3215,  0.2536,  0.3472, -0.1817, -1.0247]])\n"
          ],
          "name": "stdout"
        }
      ]
    },
    {
      "cell_type": "code",
      "metadata": {
        "id": "EizMjuz7JjZm",
        "colab_type": "code",
        "outputId": "98bddd3c-4645-462c-ee73-89cca8777d84",
        "colab": {
          "base_uri": "https://localhost:8080/",
          "height": 52
        }
      },
      "source": [
        "x = torch.randn(1)\n",
        "print(x)\n",
        "print(x.item())"
      ],
      "execution_count": 0,
      "outputs": [
        {
          "output_type": "stream",
          "text": [
            "tensor([1.0969])\n",
            "1.0969347953796387\n"
          ],
          "name": "stdout"
        }
      ]
    },
    {
      "cell_type": "code",
      "metadata": {
        "id": "1_uQPxZOM5dU",
        "colab_type": "code",
        "outputId": "d034ddbc-c5ef-463d-a5c7-56ca2d0cbee3",
        "colab": {
          "base_uri": "https://localhost:8080/",
          "height": 34
        }
      },
      "source": [
        "a = torch.ones(5)\n",
        "print(a)"
      ],
      "execution_count": 0,
      "outputs": [
        {
          "output_type": "stream",
          "text": [
            "tensor([1., 1., 1., 1., 1.])\n"
          ],
          "name": "stdout"
        }
      ]
    },
    {
      "cell_type": "code",
      "metadata": {
        "id": "3mRO9tJkTLbC",
        "colab_type": "code",
        "outputId": "08893038-0e59-42d1-90be-e2987b66ac32",
        "colab": {
          "base_uri": "https://localhost:8080/",
          "height": 34
        }
      },
      "source": [
        "b = a.numpy()\n",
        "print(b)"
      ],
      "execution_count": 0,
      "outputs": [
        {
          "output_type": "stream",
          "text": [
            "[1. 1. 1. 1. 1.]\n"
          ],
          "name": "stdout"
        }
      ]
    },
    {
      "cell_type": "code",
      "metadata": {
        "id": "k6-bgYUSTT06",
        "colab_type": "code",
        "outputId": "8c18f762-d168-4830-ac19-ce36bd917461",
        "colab": {
          "base_uri": "https://localhost:8080/",
          "height": 52
        }
      },
      "source": [
        "a.add_(1)\n",
        "print(a)\n",
        "print(b)"
      ],
      "execution_count": 0,
      "outputs": [
        {
          "output_type": "stream",
          "text": [
            "tensor([2., 2., 2., 2., 2.])\n",
            "[2. 2. 2. 2. 2.]\n"
          ],
          "name": "stdout"
        }
      ]
    },
    {
      "cell_type": "code",
      "metadata": {
        "id": "TWtTnkxsUbvr",
        "colab_type": "code",
        "outputId": "dd3fb745-c265-4c0f-acee-15bcfd186edd",
        "colab": {
          "base_uri": "https://localhost:8080/",
          "height": 52
        }
      },
      "source": [
        "import numpy as np\n",
        "a = np.ones(5)\n",
        "b = torch.from_numpy(a)\n",
        "np.add(a, 1, out=a)\n",
        "print(a)\n",
        "print(b)"
      ],
      "execution_count": 0,
      "outputs": [
        {
          "output_type": "stream",
          "text": [
            "[2. 2. 2. 2. 2.]\n",
            "tensor([2., 2., 2., 2., 2.], dtype=torch.float64)\n"
          ],
          "name": "stdout"
        }
      ]
    },
    {
      "cell_type": "code",
      "metadata": {
        "id": "ufxxaRXGWlAE",
        "colab_type": "code",
        "outputId": "91beaf6b-3f34-4f60-8b4f-1eb1f4ad24c9",
        "colab": {
          "base_uri": "https://localhost:8080/",
          "height": 52
        }
      },
      "source": [
        "# let us run this cell only if CUDA is available\n",
        "# We will use ``torch.device`` objects to move tensors in and out of GPU\n",
        "if torch.cuda.is_available():\n",
        "    device = torch.device(\"cuda\")          # a CUDA device object\n",
        "    y = torch.ones_like(x, device=device)  # directly create a tensor on GPU\n",
        "    x = x.to(device)                       # or just use strings ``.to(\"cuda\")``\n",
        "    z = x + y\n",
        "    print(z)\n",
        "    print(z.to(\"cpu\", torch.double))       # ``.to`` can also change dtype together!\n"
      ],
      "execution_count": 0,
      "outputs": [
        {
          "output_type": "stream",
          "text": [
            "tensor([2.0969], device='cuda:0')\n",
            "tensor([2.0969], dtype=torch.float64)\n"
          ],
          "name": "stdout"
        }
      ]
    },
    {
      "cell_type": "code",
      "metadata": {
        "id": "ffjokMtRWuXF",
        "colab_type": "code",
        "colab": {}
      },
      "source": [
        ""
      ],
      "execution_count": 0,
      "outputs": []
    }
  ]
}